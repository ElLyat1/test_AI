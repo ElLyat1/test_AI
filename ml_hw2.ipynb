{
  "nbformat": 4,
  "nbformat_minor": 0,
  "metadata": {
    "colab": {
      "provenance": []
    },
    "kernelspec": {
      "name": "python3",
      "display_name": "Python 3"
    },
    "language_info": {
      "name": "python"
    }
  },
  "cells": [
    {
      "cell_type": "code",
      "execution_count": null,
      "metadata": {
        "colab": {
          "base_uri": "https://localhost:8080/",
          "height": 162
        },
        "id": "PuL04Z8iGzd9",
        "outputId": "73c85d99-a883-41e9-960e-cfb4a19c2994"
      },
      "outputs": [
        {
          "output_type": "display_data",
          "data": {
            "text/plain": [
              "<IPython.core.display.HTML object>"
            ],
            "text/html": [
              "\n",
              "<table style=\"border: 2px solid black; border-collapse: collapse; width: 80%; margin: 20px auto;\">\n",
              "  <thead>\n",
              "    <tr style=\"background-color: #f2f2f2;\">\n",
              "      <th style=\"border: 1px solid black; padding: 8px; text-align: center;\">Model</th>\n",
              "      <th style=\"border: 1px solid black; padding: 8px; text-align: center;\">MSE</th>\n",
              "      <th style=\"border: 1px solid black; padding: 8px; text-align: center;\">R²</th>\n",
              "    </tr>\n",
              "  </thead>\n",
              "  <tbody>\n",
              "    <tr>\n",
              "      <td style=\"border: 1px solid black; padding: 8px; text-align: center;\">Linear Regression</td>\n",
              "      <td style=\"border: 1px solid black; padding: 8px; text-align: center;\">0.000000</td>\n",
              "      <td style=\"border: 1px solid black; padding: 8px; text-align: center;\">1.000000</td>\n",
              "    </tr>\n",
              "    <tr>\n",
              "      <td style=\"border: 1px solid black; padding: 8px; text-align: center;\">Decision Tree Regression</td>\n",
              "      <td style=\"border: 1px solid black; padding: 8px; text-align: center;\">1.060419</td>\n",
              "      <td style=\"border: 1px solid black; padding: 8px; text-align: center;\">0.996622</td>\n",
              "    </tr>\n",
              "  </tbody>\n",
              "</table>\n"
            ]
          },
          "metadata": {}
        }
      ],
      "source": [
        "import pandas as pd\n",
        "from sklearn.model_selection import train_test_split\n",
        "from sklearn.linear_model import LinearRegression\n",
        "from sklearn.tree import DecisionTreeRegressor\n",
        "from sklearn.metrics import mean_squared_error, r2_score\n",
        "from IPython.display import display, HTML\n",
        "\n",
        "df = pd.read_csv('/content/Золото.csv')\n",
        "df['Date'] = pd.to_datetime(df['Date'])\n",
        "df = df.sort_values('Date')\n",
        "df = df[['Date', 'Close']].dropna()\n",
        "\n",
        "df['Close_Lag_1'] = df['Close'].shift(1)\n",
        "df['Close_Lag_2'] = df['Close'].shift(2)\n",
        "df['Rolling_Mean_3'] = df['Close'].rolling(window=3).mean()\n",
        "df['Rolling_Mean_5'] = df['Close'].rolling(window=5).mean()\n",
        "df = df.dropna()\n",
        "\n",
        "features = ['Close_Lag_1', 'Close_Lag_2', 'Rolling_Mean_3', 'Rolling_Mean_5']\n",
        "X = df[features]\n",
        "y = df['Close']\n",
        "\n",
        "X_train, X_test, y_train, y_test = train_test_split(X, y, test_size=0.2, random_state=42)\n",
        "\n",
        "linear_regressor = LinearRegression()\n",
        "linear_regressor.fit(X_train, y_train)\n",
        "\n",
        "y_pred_linear = linear_regressor.predict(X_test)\n",
        "linear_mse = mean_squared_error(y_test, y_pred_linear)\n",
        "linear_r2 = r2_score(y_test, y_pred_linear)\n",
        "\n",
        "tree_regressor = DecisionTreeRegressor(random_state=42)\n",
        "tree_regressor.fit(X_train, y_train)\n",
        "\n",
        "y_pred_tree = tree_regressor.predict(X_test)\n",
        "tree_mse = mean_squared_error(y_test, y_pred_tree)\n",
        "tree_r2 = r2_score(y_test, y_pred_tree)\n",
        "\n",
        "# HTML-таблица с результатами\n",
        "html_table = f\"\"\"\n",
        "<table style=\"border: 2px solid black; border-collapse: collapse; width: 80%; margin: 20px auto;\">\n",
        "  <thead>\n",
        "    <tr style=\"background-color: #f2f2f2;\">\n",
        "      <th style=\"border: 1px solid black; padding: 8px; text-align: center;\">Model</th>\n",
        "      <th style=\"border: 1px solid black; padding: 8px; text-align: center;\">MSE</th>\n",
        "      <th style=\"border: 1px solid black; padding: 8px; text-align: center;\">R²</th>\n",
        "    </tr>\n",
        "  </thead>\n",
        "  <tbody>\n",
        "    <tr>\n",
        "      <td style=\"border: 1px solid black; padding: 8px; text-align: center;\">Linear Regression</td>\n",
        "      <td style=\"border: 1px solid black; padding: 8px; text-align: center;\">{linear_mse:.6f}</td>\n",
        "      <td style=\"border: 1px solid black; padding: 8px; text-align: center;\">{linear_r2:.6f}</td>\n",
        "    </tr>\n",
        "    <tr>\n",
        "      <td style=\"border: 1px solid black; padding: 8px; text-align: center;\">Decision Tree Regression</td>\n",
        "      <td style=\"border: 1px solid black; padding: 8px; text-align: center;\">{tree_mse:.6f}</td>\n",
        "      <td style=\"border: 1px solid black; padding: 8px; text-align: center;\">{tree_r2:.6f}</td>\n",
        "    </tr>\n",
        "  </tbody>\n",
        "</table>\n",
        "\"\"\"\n",
        "display(HTML(html_table))"
      ]
    }
  ]
}
