{
  "nbformat": 4,
  "nbformat_minor": 0,
  "metadata": {
    "colab": {
      "provenance": []
    },
    "kernelspec": {
      "name": "python3",
      "display_name": "Python 3"
    },
    "language_info": {
      "name": "python"
    }
  },
  "cells": [
    {
      "cell_type": "code",
      "execution_count": 6,
      "metadata": {
        "colab": {
          "base_uri": "https://localhost:8080/",
          "height": 196
        },
        "id": "PuL04Z8iGzd9",
        "outputId": "9aa3f359-b4f2-49ec-8986-9957f25106b3"
      },
      "outputs": [
        {
          "output_type": "display_data",
          "data": {
            "text/plain": [
              "<IPython.core.display.HTML object>"
            ],
            "text/html": [
              "\n",
              "<table style=\"border: 2px solid black; border-collapse: collapse; width: 80%; margin: 20px auto;\">\n",
              "  <thead>\n",
              "    <tr style=\"background-color: #f2f2f2;\">\n",
              "      <th style=\"border: 1px solid black; padding: 8px; text-align: center;\">Model</th>\n",
              "      <th style=\"border: 1px solid black; padding: 8px; text-align: center;\">MSE</th>\n",
              "      <th style=\"border: 1px solid black; padding: 8px; text-align: center;\">R²</th>\n",
              "    </tr>\n",
              "  </thead>\n",
              "  <tbody>\n",
              "    <tr>\n",
              "      <td style=\"border: 1px solid black; padding: 8px; text-align: center;\">Baseline (Dummy Regressor)</td>\n",
              "      <td style=\"border: 1px solid black; padding: 8px; text-align: center;\">311.937880</td>\n",
              "      <td style=\"border: 1px solid black; padding: 8px; text-align: center;\">N/A</td>\n",
              "    </tr>\n",
              "    <tr>\n",
              "      <td style=\"border: 1px solid black; padding: 8px; text-align: center;\">Linear Regression</td>\n",
              "      <td style=\"border: 1px solid black; padding: 8px; text-align: center;\">0.114506</td>\n",
              "      <td style=\"border: 1px solid black; padding: 8px; text-align: center;\">0.999633</td>\n",
              "    </tr>\n",
              "    <tr>\n",
              "      <td style=\"border: 1px solid black; padding: 8px; text-align: center;\">Decision Tree Regression</td>\n",
              "      <td style=\"border: 1px solid black; padding: 8px; text-align: center;\">0.339196</td>\n",
              "      <td style=\"border: 1px solid black; padding: 8px; text-align: center;\">0.998912</td>\n",
              "    </tr>\n",
              "  </tbody>\n",
              "</table>\n"
            ]
          },
          "metadata": {}
        }
      ],
      "source": [
        "import pandas as pd\n",
        "from sklearn.model_selection import train_test_split\n",
        "from sklearn.dummy import DummyRegressor\n",
        "from sklearn.linear_model import LinearRegression\n",
        "from sklearn.tree import DecisionTreeRegressor\n",
        "from sklearn.metrics import mean_squared_error, r2_score\n",
        "from IPython.display import display, HTML\n",
        "\n",
        "df = pd.read_csv('/content/Золото.csv')\n",
        "\n",
        "# Выбор признаков и целевой переменной\n",
        "features = ['Open', 'High', 'Low', 'Volume']\n",
        "target = 'Close'\n",
        "df_cleaned = df.dropna(subset=features + [target])\n",
        "\n",
        "# Разделение данных на тренировочные и тестовые выборки\n",
        "X = df_cleaned[features]\n",
        "y = df_cleaned[target]\n",
        "X_train, X_test, y_train, y_test = train_test_split(X, y, test_size=0.2, random_state=42)\n",
        "\n",
        "# Бейзлайн (предсказание среднего значения)\n",
        "dummy_regressor = DummyRegressor(strategy='mean')\n",
        "dummy_regressor.fit(X_train, y_train)\n",
        "\n",
        "# Предсказание бейзлайн модели и оценка качества\n",
        "y_pred_dummy = dummy_regressor.predict(X_test)\n",
        "baseline_mse = mean_squared_error(y_test, y_pred_dummy)\n",
        "\n",
        "# Модель 1: Линейная регрессия\n",
        "linear_regressor = LinearRegression()\n",
        "linear_regressor.fit(X_train, y_train)\n",
        "\n",
        "# Предсказание и оценка качества линейной регрессии\n",
        "y_pred_linear = linear_regressor.predict(X_test)\n",
        "linear_mse = mean_squared_error(y_test, y_pred_linear)\n",
        "linear_r2 = r2_score(y_test, y_pred_linear)\n",
        "\n",
        "# Модель 2: Дерево решений\n",
        "tree_regressor = DecisionTreeRegressor(random_state=42)\n",
        "tree_regressor.fit(X_train, y_train)\n",
        "\n",
        "# Предсказание и оценка качества дерева решений\n",
        "y_pred_tree = tree_regressor.predict(X_test)\n",
        "tree_mse = mean_squared_error(y_test, y_pred_tree)\n",
        "tree_r2 = r2_score(y_test, y_pred_tree)\n",
        "\n",
        "html_table = f\"\"\"\n",
        "<table style=\"border: 2px solid black; border-collapse: collapse; width: 80%; margin: 20px auto;\">\n",
        "  <thead>\n",
        "    <tr style=\"background-color: #f2f2f2;\">\n",
        "      <th style=\"border: 1px solid black; padding: 8px; text-align: center;\">Model</th>\n",
        "      <th style=\"border: 1px solid black; padding: 8px; text-align: center;\">MSE</th>\n",
        "      <th style=\"border: 1px solid black; padding: 8px; text-align: center;\">R²</th>\n",
        "    </tr>\n",
        "  </thead>\n",
        "  <tbody>\n",
        "    <tr>\n",
        "      <td style=\"border: 1px solid black; padding: 8px; text-align: center;\">Baseline (Dummy Regressor)</td>\n",
        "      <td style=\"border: 1px solid black; padding: 8px; text-align: center;\">{baseline_mse:.6f}</td>\n",
        "      <td style=\"border: 1px solid black; padding: 8px; text-align: center;\">N/A</td>\n",
        "    </tr>\n",
        "    <tr>\n",
        "      <td style=\"border: 1px solid black; padding: 8px; text-align: center;\">Linear Regression</td>\n",
        "      <td style=\"border: 1px solid black; padding: 8px; text-align: center;\">{linear_mse:.6f}</td>\n",
        "      <td style=\"border: 1px solid black; padding: 8px; text-align: center;\">{linear_r2:.6f}</td>\n",
        "    </tr>\n",
        "    <tr>\n",
        "      <td style=\"border: 1px solid black; padding: 8px; text-align: center;\">Decision Tree Regression</td>\n",
        "      <td style=\"border: 1px solid black; padding: 8px; text-align: center;\">{tree_mse:.6f}</td>\n",
        "      <td style=\"border: 1px solid black; padding: 8px; text-align: center;\">{tree_r2:.6f}</td>\n",
        "    </tr>\n",
        "  </tbody>\n",
        "</table>\n",
        "\"\"\"\n",
        "\n",
        "display(HTML(html_table))"
      ]
    }
  ]
}
